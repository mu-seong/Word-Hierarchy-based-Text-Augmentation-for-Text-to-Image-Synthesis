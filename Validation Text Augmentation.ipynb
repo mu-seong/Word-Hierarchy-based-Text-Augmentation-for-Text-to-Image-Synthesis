{
 "cells": [
  {
   "cell_type": "code",
   "execution_count": 1,
   "metadata": {},
   "outputs": [],
   "source": [
    "import pickle"
   ]
  },
  {
   "cell_type": "code",
   "execution_count": 2,
   "metadata": {},
   "outputs": [],
   "source": [
    "with open('D:/coco text/test_filenames.pickle', 'rb') as f:\n",
    "    test_filenames = pickle.load(f)"
   ]
  },
  {
   "cell_type": "code",
   "execution_count": 3,
   "metadata": {},
   "outputs": [
    {
     "data": {
      "text/plain": [
       "40504"
      ]
     },
     "execution_count": 3,
     "metadata": {},
     "output_type": "execute_result"
    }
   ],
   "source": [
    "len(test_filenames)"
   ]
  },
  {
   "cell_type": "code",
   "execution_count": 4,
   "metadata": {},
   "outputs": [
    {
     "name": "stdout",
     "output_type": "stream",
     "text": [
      "all text tab add finish\n"
     ]
    }
   ],
   "source": [
    "for s in range(0, 40504):\n",
    "    text = open('D:/coco text/extra/val2014_preprocessing/' + test_filenames[s] + '.txt', 'r')\n",
    "    try:\n",
    "        a, b, c, d, e = text\n",
    "        a = a.lstrip(\"1\"+\"\\t\")\n",
    "        b = b.lstrip(\"0\"+\"\\t\")\n",
    "        c = c.lstrip(\"1\"+\"\\t\")\n",
    "        d = d.lstrip(\"0\"+\"\\t\")\n",
    "        e = e.lstrip(\"1\"+\"\\t\")\n",
    "        lines = [a, b, c]\n",
    "        with open('D:/coco text/3captions/valid_3captions/' + test_filenames[s] + '.txt', 'w') as file:\n",
    "            for u in range(3):\n",
    "                file.writelines(lines[u])\n",
    "    \n",
    "    except:\n",
    "        print(\"--------------------------------------------------------------\", test_filenames[s])\n",
    "    #print(s, 'text tab add finish')\n",
    "print('all text tab add finish')  "
   ]
  },
  {
   "cell_type": "code",
   "execution_count": null,
   "metadata": {},
   "outputs": [],
   "source": []
  },
  {
   "cell_type": "code",
   "execution_count": 5,
   "metadata": {},
   "outputs": [],
   "source": [
    "with open('D:/coco text/train_filenames.pickle', 'rb') as f:\n",
    "    train_filenames = pickle.load(f)"
   ]
  },
  {
   "cell_type": "code",
   "execution_count": 6,
   "metadata": {},
   "outputs": [
    {
     "data": {
      "text/plain": [
       "82783"
      ]
     },
     "execution_count": 6,
     "metadata": {},
     "output_type": "execute_result"
    }
   ],
   "source": [
    "len(train_filenames)"
   ]
  },
  {
   "cell_type": "code",
   "execution_count": 7,
   "metadata": {},
   "outputs": [
    {
     "name": "stdout",
     "output_type": "stream",
     "text": [
      "all text tab add finish\n"
     ]
    }
   ],
   "source": [
    "for s in range(0, 82783):\n",
    "    text = open('D:/coco text/train text_3.end remove/' + train_filenames[s] + '.txt', 'r')\n",
    "    try:\n",
    "        a, b, c, d, e = text\n",
    "        a = a.lstrip(\"1\"+\"\\t\")\n",
    "        b = b.lstrip(\"0\"+\"\\t\")\n",
    "        c = c.lstrip(\"1\"+\"\\t\")\n",
    "        d = d.lstrip(\"0\"+\"\\t\")\n",
    "        e = e.lstrip(\"1\"+\"\\t\")\n",
    "        lines = [a, b, c]\n",
    "        with open('D:/coco text/3captions/train_3captions/' + train_filenames[s] + '.txt', 'w') as file:\n",
    "            for u in range(3):\n",
    "                file.writelines(lines[u])\n",
    "    \n",
    "    except:\n",
    "        print(\"--------------------------------------------------------------\", train_filenames[s])\n",
    "    #print(s, 'text tab add finish')\n",
    "print('all text tab add finish')  "
   ]
  },
  {
   "cell_type": "code",
   "execution_count": null,
   "metadata": {},
   "outputs": [],
   "source": []
  }
 ],
 "metadata": {
  "kernelspec": {
   "display_name": "Python 3",
   "language": "python",
   "name": "python3"
  },
  "language_info": {
   "codemirror_mode": {
    "name": "ipython",
    "version": 3
   },
   "file_extension": ".py",
   "mimetype": "text/x-python",
   "name": "python",
   "nbconvert_exporter": "python",
   "pygments_lexer": "ipython3",
   "version": "3.7.4"
  }
 },
 "nbformat": 4,
 "nbformat_minor": 4
}
