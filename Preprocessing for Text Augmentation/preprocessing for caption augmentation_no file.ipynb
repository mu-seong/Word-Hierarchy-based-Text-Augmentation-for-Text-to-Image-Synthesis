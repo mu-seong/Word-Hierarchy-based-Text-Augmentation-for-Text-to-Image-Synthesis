{
 "cells": [
  {
   "cell_type": "markdown",
   "metadata": {},
   "source": [
    "<h2>train text preprocessing</h2>"
   ]
  },
  {
   "cell_type": "code",
   "execution_count": null,
   "metadata": {},
   "outputs": [],
   "source": [
    "import pickle\n",
    "\n",
    "with open('D:/coco text/train_filenames.pickle', 'rb') as f:\n",
    "    train_filenames = pickle.load(f)"
   ]
  },
  {
   "cell_type": "code",
   "execution_count": null,
   "metadata": {},
   "outputs": [],
   "source": [
    "train_filenames[82782]"
   ]
  },
  {
   "cell_type": "markdown",
   "metadata": {},
   "source": [
    "<h3>1.start remove</h3>"
   ]
  },
  {
   "cell_type": "code",
   "execution_count": null,
   "metadata": {},
   "outputs": [],
   "source": [
    "for k in range(0, 82783):\n",
    "    with open('D:/coco text/train2014/' + train_filenames[k] + '.txt', 'r') as infile:\n",
    "        data = infile.readlines()\n",
    "    with open('D:/coco text/train text_1.start remove/' + train_filenames[k] + '.txt', 'w') as outfile:\n",
    "        for i in data:\n",
    "            if not i.startswith(\"\\n\"):\n",
    "                outfile.write(i)"
   ]
  },
  {
   "cell_type": "markdown",
   "metadata": {},
   "source": [
    "<h3>2.add label</h3>"
   ]
  },
  {
   "cell_type": "code",
   "execution_count": null,
   "metadata": {},
   "outputs": [],
   "source": [
    "for s in range(0, 82783):\n",
    "    text = open('D:/coco text/train text_1.start remove/' + train_filenames[s] + '.txt', 'r')\n",
    "    try:\n",
    "        a, b, c, d, e = text\n",
    "        a, b, c, d, e = '1' + '\\t' + a, '0' + '\\t' + b, '1' + '\\t' + c, '0' + '\\t' + d, '1' + '\\t' + e\n",
    "        lines = [a, b, c, d, e]\n",
    "        with open('D:/coco text/train text_2.add label/' + train_filenames[s] + '.txt', 'w') as file:\n",
    "            for u in range(5):\n",
    "                file.writelines(lines[u])\n",
    "                \n",
    "    except:\n",
    "        print('에러 발생!!!!!!!!!!!!!!!!!!!!', train_filenames[s])\n",
    "            \n",
    "    #print(s, 'text tab add finish')\n",
    "print('all text tab add finish')    "
   ]
  },
  {
   "cell_type": "markdown",
   "metadata": {},
   "source": [
    "<h3>3.end remove</h3>"
   ]
  },
  {
   "cell_type": "code",
   "execution_count": null,
   "metadata": {},
   "outputs": [],
   "source": [
    "for s in range(0, 82783):\n",
    "    text = open('D:/coco text/train text_2.add label/' + train_filenames[s] + '.txt', 'r')\n",
    "    a, b, c, d, e = text\n",
    "    e = e.rstrip(\"\\n\")\n",
    "    lines = [a, b, c, d, e]\n",
    "    with open('D:/coco text/train text_3.end remove/' + train_filenames[s] + '.txt', 'w') as file:\n",
    "            for u in range(5):\n",
    "                file.writelines(lines[u])\n",
    "    #print(s, 'text tab add finish')\n",
    "print('all text tab add finish')    "
   ]
  },
  {
   "cell_type": "markdown",
   "metadata": {},
   "source": [
    "<h2>test text preprocessing</h2>"
   ]
  },
  {
   "cell_type": "code",
   "execution_count": 2,
   "metadata": {},
   "outputs": [],
   "source": [
    "import pickle\n",
    "\n",
    "with open('D:/no_file.pickle', 'rb') as f:\n",
    "    no_file = pickle.load(f)"
   ]
  },
  {
   "cell_type": "code",
   "execution_count": 4,
   "metadata": {},
   "outputs": [
    {
     "ename": "IndexError",
     "evalue": "list index out of range",
     "output_type": "error",
     "traceback": [
      "\u001b[1;31m---------------------------------------------------------------------------\u001b[0m",
      "\u001b[1;31mIndexError\u001b[0m                                Traceback (most recent call last)",
      "\u001b[1;32m<ipython-input-4-6b8126309a77>\u001b[0m in \u001b[0;36m<module>\u001b[1;34m\u001b[0m\n\u001b[1;32m----> 1\u001b[1;33m \u001b[0mno_file\u001b[0m\u001b[1;33m[\u001b[0m\u001b[1;36m34\u001b[0m\u001b[1;33m]\u001b[0m\u001b[1;33m\u001b[0m\u001b[1;33m\u001b[0m\u001b[0m\n\u001b[0m",
      "\u001b[1;31mIndexError\u001b[0m: list index out of range"
     ]
    }
   ],
   "source": [
    "no_file[34]"
   ]
  },
  {
   "cell_type": "markdown",
   "metadata": {},
   "source": [
    "<h3>1.start remove</h3>"
   ]
  },
  {
   "cell_type": "code",
   "execution_count": 5,
   "metadata": {},
   "outputs": [],
   "source": [
    "for k in range(0, 34):\n",
    "    with open('D:/coco text/val2014/' + no_file[k] + '.txt', 'r') as infile:\n",
    "        data = infile.readlines()\n",
    "    with open('D:/coco text/no file_1.start remove/' + no_file[k] + '.txt', 'w') as outfile:\n",
    "        for i in data:\n",
    "            if not i.startswith(\"\\n\"):\n",
    "                outfile.write(i)"
   ]
  },
  {
   "cell_type": "markdown",
   "metadata": {},
   "source": [
    "<h3>2.add label</h3>"
   ]
  },
  {
   "cell_type": "code",
   "execution_count": 6,
   "metadata": {},
   "outputs": [
    {
     "name": "stdout",
     "output_type": "stream",
     "text": [
      "all text tab add finish\n"
     ]
    }
   ],
   "source": [
    "for s in range(0, 34):\n",
    "    text = open('D:/coco text/no file_1.start remove/' + no_file[s] + '.txt', 'r')\n",
    "    try:\n",
    "        a, b, c, d, e = text\n",
    "        a, b, c, d, e = '1' + '\\t' + a, '0' + '\\t' + b, '1' + '\\t' + c, '0' + '\\t' + d, '1' + '\\t' + e\n",
    "        lines = [a, b, c, d, e]\n",
    "        with open('D:/coco text/no file_2.add label/' + no_file[s] + '.txt', 'w') as file:\n",
    "            for u in range(5):\n",
    "                file.writelines(lines[u])\n",
    "                \n",
    "    except:\n",
    "        print('에러 발생!!!!!!!!!!!!!!!!!!!!', no_file[s])\n",
    "            \n",
    "    #print(s, 'text tab add finish')\n",
    "print('all text tab add finish')    "
   ]
  },
  {
   "cell_type": "markdown",
   "metadata": {},
   "source": [
    "<h3>3.end remove</h3>"
   ]
  },
  {
   "cell_type": "code",
   "execution_count": 7,
   "metadata": {},
   "outputs": [
    {
     "name": "stdout",
     "output_type": "stream",
     "text": [
      "all text tab add finish\n"
     ]
    }
   ],
   "source": [
    "for s in range(0, 34):\n",
    "    text = open('D:/coco text/no file_2.add label/' + no_file[s] + '.txt', 'r')\n",
    "    a, b, c, d, e = text\n",
    "    e = e.rstrip(\"\\n\")\n",
    "    lines = [a, b, c, d, e]\n",
    "    with open('D:/coco text/no file_3.end remove/' + no_file[s] + '.txt', 'w') as file:\n",
    "            for u in range(5):\n",
    "                file.writelines(lines[u])\n",
    "    #print(s, 'text tab add finish')\n",
    "print('all text tab add finish')  "
   ]
  },
  {
   "cell_type": "code",
   "execution_count": null,
   "metadata": {},
   "outputs": [],
   "source": []
  },
  {
   "cell_type": "code",
   "execution_count": null,
   "metadata": {},
   "outputs": [],
   "source": []
  }
 ],
 "metadata": {
  "kernelspec": {
   "display_name": "Python 3",
   "language": "python",
   "name": "python3"
  },
  "language_info": {
   "codemirror_mode": {
    "name": "ipython",
    "version": 3
   },
   "file_extension": ".py",
   "mimetype": "text/x-python",
   "name": "python",
   "nbconvert_exporter": "python",
   "pygments_lexer": "ipython3",
   "version": "3.6.10"
  }
 },
 "nbformat": 4,
 "nbformat_minor": 2
}
