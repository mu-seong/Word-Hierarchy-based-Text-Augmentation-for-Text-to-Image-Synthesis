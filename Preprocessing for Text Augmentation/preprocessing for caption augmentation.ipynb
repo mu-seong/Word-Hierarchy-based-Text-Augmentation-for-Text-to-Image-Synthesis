{
 "cells": [
  {
   "cell_type": "markdown",
   "metadata": {},
   "source": [
    "<h2>Text Preprocessing_train data</h2>"
   ]
  },
  {
   "cell_type": "code",
   "execution_count": 2,
   "metadata": {},
   "outputs": [],
   "source": [
    "import pickle\n",
    "\n",
    "with open('D:/Text to Image/coco text/train_filenames.pickle', 'rb') as f:\n",
    "    train_filenames = pickle.load(f)"
   ]
  },
  {
   "cell_type": "code",
   "execution_count": 2,
   "metadata": {},
   "outputs": [
    {
     "data": {
      "text/plain": [
       "'COCO_train2014_000000526896'"
      ]
     },
     "execution_count": 2,
     "metadata": {},
     "output_type": "execute_result"
    }
   ],
   "source": [
    "train_filenames[82782]"
   ]
  },
  {
   "cell_type": "markdown",
   "metadata": {},
   "source": [
    "<h3>1.start remove</h3>"
   ]
  },
  {
   "cell_type": "code",
   "execution_count": null,
   "metadata": {},
   "outputs": [],
   "source": [
    "for k in range(0, 82783):\n",
    "    with open('D:/coco text/train2014/' + train_filenames[k] + '.txt', 'r') as infile:\n",
    "        data = infile.readlines()\n",
    "    with open('D:/coco text/train text_1.start remove/' + train_filenames[k] + '.txt', 'w') as outfile:\n",
    "        for i in data:\n",
    "            if not i.startswith(\"\\n\"):\n",
    "                outfile.write(i)"
   ]
  },
  {
   "cell_type": "markdown",
   "metadata": {},
   "source": [
    "<h3>2.add label</h3>"
   ]
  },
  {
   "cell_type": "code",
   "execution_count": null,
   "metadata": {},
   "outputs": [],
   "source": [
    "for s in range(0, 82783):\n",
    "    text = open('D:/coco text/train text_1.start remove/' + train_filenames[s] + '.txt', 'r')\n",
    "    try:\n",
    "        a, b, c, d, e = text\n",
    "        a, b, c, d, e = '1' + '\\t' + a, '0' + '\\t' + b, '1' + '\\t' + c, '0' + '\\t' + d, '1' + '\\t' + e\n",
    "        lines = [a, b, c, d, e]\n",
    "        with open('D:/coco text/train text_2.add label/' + train_filenames[s] + '.txt', 'w') as file:\n",
    "            for u in range(5):\n",
    "                file.writelines(lines[u])\n",
    "                \n",
    "    except:\n",
    "        print('에러 발생!!!!!!!!!!!!!!!!!!!!', train_filenames[s])\n",
    "            \n",
    "    #print(s, 'text tab add finish')\n",
    "print('all text tab add finish')    "
   ]
  },
  {
   "cell_type": "markdown",
   "metadata": {},
   "source": [
    "<h3>3.end remove</h3>"
   ]
  },
  {
   "cell_type": "code",
   "execution_count": null,
   "metadata": {},
   "outputs": [],
   "source": [
    "for s in range(0, 82783):\n",
    "    text = open('D:/coco text/train text_2.add label/' + train_filenames[s] + '.txt', 'r')\n",
    "    a, b, c, d, e = text\n",
    "    e = e.rstrip(\"\\n\")\n",
    "    lines = [a, b, c, d, e]\n",
    "    with open('D:/coco text/train text_3.end remove/' + train_filenames[s] + '.txt', 'w') as file:\n",
    "            for u in range(5):\n",
    "                file.writelines(lines[u])\n",
    "    #print(s, 'text tab add finish')\n",
    "print('all text tab add finish')    "
   ]
  },
  {
   "cell_type": "code",
   "execution_count": null,
   "metadata": {},
   "outputs": [],
   "source": []
  },
  {
   "cell_type": "markdown",
   "metadata": {},
   "source": [
    "<h3>___3caption 1.start remove</h3>"
   ]
  },
  {
   "cell_type": "code",
   "execution_count": 5,
   "metadata": {},
   "outputs": [],
   "source": [
    "for k in range(0, 82783):\n",
    "    with open('D:/coco text/3captions/train_3captions/' + train_filenames[k] + '.txt', 'r') as infile:\n",
    "        data = infile.readlines()\n",
    "    with open('D:/coco text/3captions/5caption augmentation/1.start remove/' + train_filenames[k] + '.txt', 'w') as outfile:\n",
    "        for i in data:\n",
    "            if not i.startswith(\"\\n\"):\n",
    "                outfile.write(i)"
   ]
  },
  {
   "cell_type": "markdown",
   "metadata": {},
   "source": [
    "<h3>___3caption 2.add label</h3>"
   ]
  },
  {
   "cell_type": "code",
   "execution_count": 6,
   "metadata": {},
   "outputs": [
    {
     "name": "stdout",
     "output_type": "stream",
     "text": [
      "all text tab add finish\n"
     ]
    }
   ],
   "source": [
    "for s in range(0, 82783):\n",
    "    text = open('D:/coco text/3captions/5caption augmentation/1.start remove/' + train_filenames[s] + '.txt', 'r')\n",
    "    try:\n",
    "        a, b, c = text\n",
    "        a, b, c = '1' + '\\t' + a, '0' + '\\t' + b, '1' + '\\t' + c\n",
    "        lines = [a, b, c]\n",
    "        with open('D:/coco text/3captions/5caption augmentation/2.add label/' + train_filenames[s] + '.txt', 'w') as file:\n",
    "            for u in range(3):\n",
    "                file.writelines(lines[u])\n",
    "                \n",
    "    except:\n",
    "        print('에러 발생!!!!!!!!!!!!!!!!!!!!', train_filenames[s])\n",
    "            \n",
    "    #print(s, 'text tab add finish')\n",
    "print('all text tab add finish')    "
   ]
  },
  {
   "cell_type": "markdown",
   "metadata": {},
   "source": [
    "<h3>___3caption 3.end remove</h3>"
   ]
  },
  {
   "cell_type": "code",
   "execution_count": 7,
   "metadata": {},
   "outputs": [
    {
     "name": "stdout",
     "output_type": "stream",
     "text": [
      "all text tab add finish\n"
     ]
    }
   ],
   "source": [
    "for s in range(0, 82783):\n",
    "    text = open('D:/coco text/3captions/5caption augmentation/2.add label/' + train_filenames[s] + '.txt', 'r')\n",
    "    a, b, c = text\n",
    "    c = c.rstrip(\"\\n\")\n",
    "    lines = [a, b, c]\n",
    "    with open('D:/coco text/3captions/5caption augmentation/3.end remove/' + train_filenames[s] + '.txt', 'w') as file:\n",
    "            for u in range(3):\n",
    "                file.writelines(lines[u])\n",
    "    #print(s, 'text tab add finish')\n",
    "print('all text tab add finish')    "
   ]
  },
  {
   "cell_type": "code",
   "execution_count": null,
   "metadata": {},
   "outputs": [],
   "source": []
  },
  {
   "cell_type": "markdown",
   "metadata": {},
   "source": [
    "<h3>one(first) caption remove</h3>"
   ]
  },
  {
   "cell_type": "code",
   "execution_count": 3,
   "metadata": {},
   "outputs": [
    {
     "name": "stdout",
     "output_type": "stream",
     "text": [
      "all text tab add finish\n"
     ]
    }
   ],
   "source": [
    "for s in range(0, 82783):\n",
    "    text = open('D:/Text to Image/coco text/2020.10.01_3to6/' + train_filenames[s] + '.txt', 'r')\n",
    "    try:\n",
    "        a, b, c, d, e, f = text\n",
    "        lines = [b, c, d, e, f]\n",
    "        with open('D:/Text to Image/coco text/2020.10.01_6to5/' + train_filenames[s] + '.txt', 'w') as file:\n",
    "            for u in range(5):\n",
    "                file.writelines(lines[u])\n",
    "                \n",
    "    except:\n",
    "        print('에러 발생!!!!!!!!!!!!!!!!!!!!', train_filenames[s])\n",
    "            \n",
    "    #print(s, 'text tab add finish')\n",
    "print('all text tab add finish')   "
   ]
  },
  {
   "cell_type": "code",
   "execution_count": null,
   "metadata": {},
   "outputs": [],
   "source": []
  }
 ],
 "metadata": {
  "kernelspec": {
   "display_name": "Python 3",
   "language": "python",
   "name": "python3"
  },
  "language_info": {
   "codemirror_mode": {
    "name": "ipython",
    "version": 3
   },
   "file_extension": ".py",
   "mimetype": "text/x-python",
   "name": "python",
   "nbconvert_exporter": "python",
   "pygments_lexer": "ipython3",
   "version": "3.6.10"
  }
 },
 "nbformat": 4,
 "nbformat_minor": 2
}
